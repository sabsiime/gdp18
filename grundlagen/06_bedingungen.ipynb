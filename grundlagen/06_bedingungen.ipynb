{
 "cells": [
  {
   "cell_type": "markdown",
   "metadata": {},
   "source": [
    "# Bedingungen"
   ]
  },
  {
   "cell_type": "markdown",
   "metadata": {},
   "source": [
    "Oft muss im Programmablauf eine Abzweigung genommenen werden. Stellen wir uns vor, wir programmieren einen Bankomaten:\n",
    "\n",
    "~~~\n",
    "abzuhebender_betrag = input('Wieviel wollen Sie abheben? ')\n",
    "\n",
    "WENN kontostand - abzuhebender_betrag > ueberziehungsrahmen:\n",
    "    Geld auszahlen   \n",
    "SONST\n",
    "    AUSGABE: Ihr Kontostand reicht nicht aus\n",
    "~~~\n",
    "\n",
    "Die allgemeine Form einer Bedingung in Python (und den meisten höheren Programmiersprachen) sieht so aus:\n",
    "\n",
    "~~~\n",
    "if BEDINGUNG:\n",
    "    tue das eine\n",
    "else:\n",
    "    tue etwas anderes\n",
    "~~~\n",
    "\n",
    "Wobei `else` weggelassen werden kann."
   ]
  },
  {
   "cell_type": "markdown",
   "metadata": {},
   "source": [
    "## Beispieldaten einlesen\n",
    "Im letzten Notebook haben wir die Zeilen aus der Datei `names_short.txt` in eine Liste von Zeilen namens `clean_names` eingelesen und dabei in einer List Comprehension die Linefeeds abgestreift.\n",
    "Wir tun das hier noch einmal, weil wir mit diesen Daten arbeiten werden."
   ]
  },
  {
   "cell_type": "code",
   "execution_count": null,
   "metadata": {},
   "outputs": [],
   "source": [
    "with open('data/vornamen/names_short.txt', encoding='utf-8') as fh:\n",
    "    clean_names = [line.rstrip() for line in fh.readlines()]\n",
    "print(clean_names)"
   ]
  },
  {
   "cell_type": "markdown",
   "metadata": {},
   "source": [
    "## if\n",
    "Ermitteln wir nun als Beispiel alle Namen aus unserer Liste `clean_names`, die länger als 8 Zeichen sind:"
   ]
  },
  {
   "cell_type": "code",
   "execution_count": null,
   "metadata": {},
   "outputs": [],
   "source": [
    "for name in clean_names:\n",
    "    if len(name) > 8:\n",
    "        print(name)"
   ]
  },
  {
   "cell_type": "markdown",
   "metadata": {},
   "source": [
    "## Bedingungen in List Comprehensions\n",
    "Das letzte Beispiel lässt sich auch mit einer List Comprehension lösen:"
   ]
  },
  {
   "cell_type": "code",
   "execution_count": null,
   "metadata": {},
   "outputs": [],
   "source": [
    "[name for name in clean_names if len(name) > 8]"
   ]
  },
  {
   "cell_type": "markdown",
   "metadata": {},
   "source": [
    "## if ... else\n",
    "Mit `else` können wir alle Fälle behandeln, die nicht die bei if gestellte Bedingung erfüllen. Im folgenden `else`-Abschnitt wollen wir zählen, wie viele Namen kürzer oder gleich 8 Zeichen sind:"
   ]
  },
  {
   "cell_type": "code",
   "execution_count": null,
   "metadata": {},
   "outputs": [],
   "source": [
    "num_of_short_names = 0\n",
    "num_of_long_names = 0\n",
    "\n",
    "for name in clean_names:\n",
    "    if len(name) > 8:\n",
    "        num_of_long_names += 1\n",
    "    else:\n",
    "        num_of_short_names += 1\n",
    "print(\"{} kurze Namen und {} lange Namen\".format(num_of_short_names, num_of_long_names))        "
   ]
  },
  {
   "cell_type": "markdown",
   "metadata": {},
   "source": [
    "## Unterbedingungen\n",
    "If-Bedingungen können verschachtelt werden:"
   ]
  },
  {
   "cell_type": "code",
   "execution_count": null,
   "metadata": {},
   "outputs": [],
   "source": [
    "short_length_names = 0\n",
    "medium_length_names = 0\n",
    "long_length_names = 0\n",
    "\n",
    "for name in clean_names:\n",
    "    if len(name) > 8:\n",
    "        long_length_names += 1\n",
    "    else:\n",
    "        if len(name) < 5:\n",
    "            short_length_names += 1\n",
    "        else:\n",
    "            medium_length_names += 1\n",
    "print('{} kurze Namen, {} mittellange und {} lange Namen'.format(\n",
    "    short_length_names, medium_length_names, long_length_names))"
   ]
  },
  {
   "cell_type": "markdown",
   "metadata": {},
   "source": [
    "## if ... elif ... else\n",
    "In Python können solche verschachtelten Bedingungen oft vermieden werden, wenn man `elif` verwendet:"
   ]
  },
  {
   "cell_type": "code",
   "execution_count": null,
   "metadata": {},
   "outputs": [],
   "source": [
    "short_length_names = 0\n",
    "medium_length_names = 0\n",
    "long_length_names = 0\n",
    "\n",
    "for name in clean_names:\n",
    "    if len(name) > 8:\n",
    "        long_length_names += 1\n",
    "    elif len(name) < 5:\n",
    "        short_length_names += 1\n",
    "    else:\n",
    "        medium_length_names += 1\n",
    "        \n",
    "print('{} kurze Namen, {} mittellange und {} lange Namen'.format(\n",
    "    short_length_names, medium_length_names, long_length_names))"
   ]
  },
  {
   "cell_type": "markdown",
   "metadata": {},
   "source": [
    "## Doppelt vorkommende Namen entfernen\n",
    "### Der in-Operator\n",
    "\n",
    "In der Liste `clean_names` kommen manche Namen mehrfach vor. Je nach Fragestellung kann das erwünscht sein oder auch nicht. Versuchen wir daher, doppelt vorkommende Namen zu verhindern. Dazu müssen wir einen neuen Operator einführen,\n",
    "der testet, ob ein Wert in einer Sequenz vorhanden ist: `in`."
   ]
  },
  {
   "cell_type": "code",
   "execution_count": null,
   "metadata": {},
   "outputs": [],
   "source": [
    "'a' in 'Anakonda'"
   ]
  },
  {
   "cell_type": "markdown",
   "metadata": {},
   "source": [
    "`in` funktioniert mit allen Sequenztypen und, wie wir noch sehen werden, ein paar anderen Typen, also auch mit Listen. Hier prüfen wir, ob der Integer `42` in einer Liste vorkommt:"
   ]
  },
  {
   "cell_type": "code",
   "execution_count": null,
   "metadata": {},
   "outputs": [],
   "source": [
    "42 in [1, 55, 44, 32, 71, 41]"
   ]
  },
  {
   "cell_type": "markdown",
   "metadata": {},
   "source": [
    "und hier verwenden wir `in`, um zu prüfen, ob der Name bereits in einer Liste distinkter Namen erscheint:"
   ]
  },
  {
   "cell_type": "code",
   "execution_count": null,
   "metadata": {},
   "outputs": [],
   "source": [
    "distinct_names = []\n",
    "for name in clean_names:\n",
    "    if name in distinct_names:\n",
    "        pass\n",
    "    else:\n",
    "        distinct_names.append(name)\n",
    "print('clean_names: {} Einträgen, distinct_names: {} Einträge'. format(len(clean_names), len(distinct_names)))   "
   ]
  },
  {
   "cell_type": "markdown",
   "metadata": {},
   "source": [
    "### not in\n",
    "Wenn wir statt `in` `not in` verwenden (also die Bedingung umkehren), können wir uns das `else` ersparen:"
   ]
  },
  {
   "cell_type": "code",
   "execution_count": null,
   "metadata": {},
   "outputs": [],
   "source": [
    "distinct_names = []\n",
    "for name in clean_names:\n",
    "    # TODO\n",
    "        distinct_names.append(name)\n",
    "print('clean_names: {} Einträgen, distinct_names: {} Einträge'. format(len(clean_names), len(distinct_names)))  "
   ]
  },
  {
   "cell_type": "markdown",
   "metadata": {},
   "source": [
    "## Vertiefende Literatur\n",
    "Ich empfehle ausdrücklich, mindestens eine der folgenden Ressourcen zur Vertiefung zu lesen!\n",
    "\n",
    "  * Python Tutorial: \n",
    "\t* Kapitel 4.1\n",
    "\t\t* http://docs.python.org/3/tutorial/controlflow.html\\#if-statements\n",
    "  * Klein, Kurs: \n",
    "\t* http://python-kurs.eu/python3\\_bedingte\\_anweisungen.php \n",
    "  * Klein, Buch: Kapitel 8. \n",
    "  * Weigend: Kapitel 5.1, 5.2 und 5.3.\n",
    "  * Briggs: Kapitel 6 \n",
    "  "
   ]
  }
 ],
 "metadata": {
  "kernelspec": {
   "display_name": "Python 3",
   "language": "python",
   "name": "python3"
  },
  "language_info": {
   "codemirror_mode": {
    "name": "ipython",
    "version": 3
   },
   "file_extension": ".py",
   "mimetype": "text/x-python",
   "name": "python",
   "nbconvert_exporter": "python",
   "pygments_lexer": "ipython3",
   "version": "3.7.0"
  }
 },
 "nbformat": 4,
 "nbformat_minor": 2
}
