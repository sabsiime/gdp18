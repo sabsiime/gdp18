{
 "cells": [
  {
   "cell_type": "markdown",
   "metadata": {},
   "source": [
    "# Datentypen, Operatoren und Variablen"
   ]
  },
  {
   "cell_type": "markdown",
   "metadata": {},
   "source": [
    "## Datentypen\n",
    "\n",
    "Jeder Wert in Python hat einen bestimmten Datentyp. Dieser hängt davon ab, wie der Wert eingegeben wurde. Es ist nicht nötig, den Typ explizit zu deklarieren. Python erkennt den Typ automatisch.\n",
    "\n",
    "~~~\n",
    "score = 0  # Datentyp int\n",
    "pi = 3.14  # Datentyp float\n",
    "name = 'Hudri Wudri'  # Datentyp str\n",
    "has_superpowers = True # Datentyp bool\n",
    "~~~"
   ]
  },
  {
   "cell_type": "markdown",
   "metadata": {},
   "source": [
    "Wir können den Datentyp durch Aufruf der Funktion `type()` ermitteln:"
   ]
  },
  {
   "cell_type": "code",
   "execution_count": null,
   "metadata": {},
   "outputs": [],
   "source": [
    "type(0)"
   ]
  },
  {
   "cell_type": "code",
   "execution_count": null,
   "metadata": {},
   "outputs": [],
   "source": [
    "type(3.14)"
   ]
  },
  {
   "cell_type": "code",
   "execution_count": null,
   "metadata": {},
   "outputs": [],
   "source": [
    "type('Hudri Wudri')"
   ]
  },
  {
   "cell_type": "code",
   "execution_count": null,
   "metadata": {},
   "outputs": [],
   "source": [
    "type(True)"
   ]
  },
  {
   "cell_type": "markdown",
   "metadata": {},
   "source": [
    "Da Python im Kern eine objektorientierte Sprache ist (alles ist ein Objekt im Sinne der objektorientierten Programmierung) gibt es potentiell beliebig viele Typen, weil selbstgeschriebene Klassen eigene Typen darstellen.\n",
    "Die für den Einstieg wichtigsten Typen sind: `int`, `float`, `bool` und `str`.\n",
    "\n",
    "### Die numerischen Datentypen `int` und `float`\n",
    "Der Datentyp `int` (Integer) repräsentiert eine Ganzzahl, der Datentyp `float` eine Kommazahl (Float).\n",
    "Beiden Typen können im Prinzip beliebig groß werden, ihre Größe ist nur durch den vorhanden Hauptspeicher begrenzt."
   ]
  },
  {
   "cell_type": "code",
   "execution_count": null,
   "metadata": {},
   "outputs": [],
   "source": [
    "type(12345), type(3.14)"
   ]
  },
  {
   "cell_type": "markdown",
   "metadata": {},
   "source": [
    "#### Rechnen: die mathematischen Operatoren\n",
    "\n",
    "Python kennt natürlich die Grundrechnungsarten: \n",
    "\n",
    "* `+`: Addition\n",
    "* `-`: Subtraktion\n",
    "* `*`: Multiplikation\n",
    "* `/`: Division\n",
    "\n",
    "Darüber hinaus gibt es folgende mathematischen Operatoren:\n",
    "\n",
    "* `**`: Potenzierung\n",
    "* `%`: Module (Rest einer Division)"
   ]
  },
  {
   "cell_type": "markdown",
   "metadata": {},
   "source": [
    "#### Übungen\n",
    "\n",
    "Wie viel ist 43 plus 99 durch 5 mal 3? Versuchen Sie das Ergebnis zu ergründen. Versuchen Sie,  Teilausdrücke zu klammern."
   ]
  },
  {
   "cell_type": "code",
   "execution_count": null,
   "metadata": {},
   "outputs": [],
   "source": [
    "43 + 99 / 5 * 3"
   ]
  },
  {
   "cell_type": "markdown",
   "metadata": {},
   "source": [
    "Versuchen Sie, durch Multiplikation oder Potenzierung eine richtig große Zahl zu erzeugen."
   ]
  },
  {
   "cell_type": "code",
   "execution_count": null,
   "metadata": {},
   "outputs": [],
   "source": []
  },
  {
   "cell_type": "markdown",
   "metadata": {},
   "source": [
    "Wieviel bleibt Rest, wenn man 481 durch 17 dividiert?"
   ]
  },
  {
   "cell_type": "code",
   "execution_count": null,
   "metadata": {},
   "outputs": [],
   "source": []
  },
  {
   "cell_type": "markdown",
   "metadata": {},
   "source": [
    "Was passiert, wenn man einen Floatwert zu einem Integerwert addiert. Welchen Datentyp hat das Ergebnis?"
   ]
  },
  {
   "cell_type": "code",
   "execution_count": null,
   "metadata": {},
   "outputs": [],
   "source": []
  },
  {
   "cell_type": "markdown",
   "metadata": {},
   "source": [
    "### Der Datentyp `bool` (Boolean, Wahrheitswert)\n",
    "Dieser Datentyp kennt nur zwei Werte: `True` oder `False` (Achtung: der Großbuchstabe am Beginn ist wichtig!)"
   ]
  },
  {
   "cell_type": "code",
   "execution_count": null,
   "metadata": {},
   "outputs": [],
   "source": [
    "type(True), type(False)"
   ]
  },
  {
   "cell_type": "markdown",
   "metadata": {},
   "source": [
    "### Der Datentyp `str` (String, Zeichenkette)\n",
    "Ein String ist eine Sequenz von einzelnen Zeichen. String-Werte müssen in Anführungszeichen stehen (egal ob einfache oder doppelte)."
   ]
  },
  {
   "cell_type": "code",
   "execution_count": null,
   "metadata": {},
   "outputs": [],
   "source": [
    "type('abc'), type(\"abc\")"
   ]
  },
  {
   "cell_type": "code",
   "execution_count": null,
   "metadata": {},
   "outputs": [],
   "source": [
    "'\"Das ist praktisch\", sagte er, \"weil man im String das jeweils andere Anführungszeichen verwenden kann.\"'"
   ]
  },
  {
   "cell_type": "markdown",
   "metadata": {},
   "source": [
    "#### Lange Strings"
   ]
  },
  {
   "cell_type": "markdown",
   "metadata": {},
   "source": [
    "Manchmal muss man lange Strings erzeugen, die auch über mehrere Zeilen reichen können. Python bietet hier zwei elegante Möglchkeiten. Entweder man verwendet als Stringbegrenzer drei Anführungszeichen (egal ob doppelte oder einfache)"
   ]
  },
  {
   "cell_type": "code",
   "execution_count": null,
   "metadata": {},
   "outputs": [],
   "source": [
    "\"\"\"Das ist ein ziemlicher langer String, der \n",
    "über mehrere Zeilen reicht.\"\"\""
   ]
  },
  {
   "cell_type": "markdown",
   "metadata": {},
   "source": [
    "oder man klammert mehrere einzelne Strings:"
   ]
  },
  {
   "cell_type": "code",
   "execution_count": null,
   "metadata": {},
   "outputs": [],
   "source": [
    "('Das ist eine ziemlich langer String, der '\n",
    " 'über mehrere Zeilen reicht.')"
   ]
  },
  {
   "cell_type": "markdown",
   "metadata": {},
   "source": [
    "#### Escape-Sequenzen in Strings\n",
    "In Strings dient der Backslash (\\\\) als Escape-Zeichen, das die Bedeutung des unmittelbar darauf folgenden Zeichens verändert. Es gibt eine Reihe solcher Escape-Sequenzen, hier nur ein paar Beispiele:\n",
    "* `\\'` und `\\\"` können dazu verwendet werden, in einen String Anführungszeichen einzufügen, wenn das jeweilige Zeichen bereits zur Begrenzung des Strings verwendet wurde:"
   ]
  },
  {
   "cell_type": "code",
   "execution_count": null,
   "metadata": {},
   "outputs": [],
   "source": [
    "'Sie sagte: \\'Escape-Sequenzen sind manchmal recht nützlich\\''"
   ]
  },
  {
   "cell_type": "markdown",
   "metadata": {},
   "source": [
    "* `\\n` fügt eine Zeilenumbruch (Linefeed) ein. Das ist ein normales, in der Regel nicht sichtbares Zeichen (Codepoint 10)"
   ]
  },
  {
   "cell_type": "code",
   "execution_count": null,
   "metadata": {},
   "outputs": [],
   "source": [
    "print(\"Zeile 1\\nZeile2\")"
   ]
  },
  {
   "cell_type": "markdown",
   "metadata": {},
   "source": [
    "* `\\t` fügt ein Tabulatorzeichen ein"
   ]
  },
  {
   "cell_type": "code",
   "execution_count": null,
   "metadata": {},
   "outputs": [],
   "source": [
    "print('abd\\tefg')"
   ]
  },
  {
   "cell_type": "markdown",
   "metadata": {},
   "source": [
    "* Will man einen Backslash in einem String verwenden, muss dieser durch einen zweiten Backslash escaped werden."
   ]
  },
  {
   "cell_type": "code",
   "execution_count": null,
   "metadata": {},
   "outputs": [],
   "source": [
    "print('Die Escape-Sequenz \\\\t steht für einen Tabulator')"
   ]
  },
  {
   "cell_type": "markdown",
   "metadata": {},
   "source": [
    "* Zeichen, die nicht auf dem Keyboard vorkommen, können über ihren Unicode-Codepoint eingegeben werden:"
   ]
  },
  {
   "cell_type": "code",
   "execution_count": null,
   "metadata": {},
   "outputs": [],
   "source": [
    "print('Ein Sigma sieht so aus: \\u03A3')"
   ]
  },
  {
   "cell_type": "markdown",
   "metadata": {},
   "source": [
    "### Hinweise für erfahrene Programmierer\n",
    "* Python kennt keine Primitives\n",
    "* Sogar ganz einfache Typen wie `bool` oder `int` sind von Klassen abgeleitete Objekte\n",
    "* Typen sind in Python also nicht anderes als Klassen"
   ]
  },
  {
   "cell_type": "markdown",
   "metadata": {},
   "source": [
    "## Warum sind Typen wichtig?"
   ]
  },
  {
   "cell_type": "markdown",
   "metadata": {},
   "source": [
    "Der Datentyp legt fest, wie ein Wert intern repräsentiert wird.\n",
    "\n",
    "Aus ProgrammiererInnensicht am wichtigsten ist, was man mit bestimmten Datentypen machen kann und was nicht.\n",
    "Die Methode `upper()` des String-Typs wandelt alle Zeichen in Großbuchstaben um. "
   ]
  },
  {
   "cell_type": "code",
   "execution_count": null,
   "metadata": {},
   "outputs": [],
   "source": [
    "'abc'.upper()"
   ]
  },
  {
   "cell_type": "markdown",
   "metadata": {},
   "source": [
    "`upper()` in Zusammenhang mit Integern macht dagegen keinen Sinn und führt zu einem Error:"
   ]
  },
  {
   "cell_type": "code",
   "execution_count": null,
   "metadata": {},
   "outputs": [],
   "source": [
    "123.upper()"
   ]
  },
  {
   "cell_type": "markdown",
   "metadata": {},
   "source": [
    "Auch Operatoren bewirken für unterschiedliche Datentypen Unterschiedliches:"
   ]
  },
  {
   "cell_type": "code",
   "execution_count": null,
   "metadata": {},
   "outputs": [],
   "source": [
    "1 + 1"
   ]
  },
  {
   "cell_type": "code",
   "execution_count": null,
   "metadata": {},
   "outputs": [],
   "source": [
    "'1' + '1' "
   ]
  },
  {
   "cell_type": "code",
   "execution_count": null,
   "metadata": {},
   "outputs": [],
   "source": [
    "'1' + 1 # führt zu TypeError"
   ]
  },
  {
   "cell_type": "markdown",
   "metadata": {},
   "source": [
    "### Typumwandlungen (Casts)\n",
    "Im letzten Beispiel haben wir gesehen, dass die Addition einen Strings mit einem Integer zu einem Fehler führt. Das können wir bei Bedarf umgehen, indem wir Python anweisen, eine Typumwandlung durchzuführen.\n"
   ]
  },
  {
   "cell_type": "code",
   "execution_count": null,
   "metadata": {},
   "outputs": [],
   "source": [
    "'1' + str(1)"
   ]
  },
  {
   "cell_type": "code",
   "execution_count": null,
   "metadata": {},
   "outputs": [],
   "source": [
    "int('1') + 1"
   ]
  },
  {
   "cell_type": "markdown",
   "metadata": {},
   "source": [
    "Natürlich kann aber auch diese Typumwandlung scheitern:"
   ]
  },
  {
   "cell_type": "code",
   "execution_count": null,
   "metadata": {},
   "outputs": [],
   "source": [
    "int('abc')"
   ]
  },
  {
   "cell_type": "markdown",
   "metadata": {},
   "source": [
    "## Operatoren"
   ]
  },
  {
   "cell_type": "markdown",
   "metadata": {},
   "source": [
    "### Mathematische Operatoren\n",
    "Die mathematischen Operatoren (`+, -, *, /, **, %`) haben wir oben bereits kennengelernt. Manche sind für nicht-numerische Typen umdefiniert, wie z.B. der Plus-Operator zum Konkatenieren von Strings (`'abc' + 'def'`)."
   ]
  },
  {
   "cell_type": "markdown",
   "metadata": {},
   "source": [
    "### Vergleichsoperatoren\n",
    "Vergleichsoperatoren werden dazu verwendet, zwei Werte miteinander zu vergleichen.\n",
    "\n",
    "Man kann z.B. testen, ob zwei Wert gleich sind. Der entsprechende Operator ist `==` (zwei Istgleich-Zeichen!). Jeder Vergleich liefert einen Wahrheitswert (also `True` oder `False`).\n",
    "\n",
    "~~~\n",
    "123 == 123\n",
    "True\n",
    "\n",
    "'Graz' == 'Wien'\n",
    "False\n",
    "~~~\n",
    "\n",
    "Natürlich kann man auch berechnete Werte miteinander vergleichen:\n",
    "\n",
    "~~~\n",
    "100 / 4 == 75 / 3\n",
    "~~~"
   ]
  },
  {
   "cell_type": "code",
   "execution_count": null,
   "metadata": {},
   "outputs": [],
   "source": [
    "# Übung: Lässt sich 3459 ohne Rest durch 7 teilen? \n",
    "# Hinweis: eine Zahl ist durch eine andere Zahl teilbar, wenn bei der Division Rest 0 bleibt"
   ]
  },
  {
   "cell_type": "markdown",
   "metadata": {},
   "source": [
    "Python kennt eine Reihe von Vergleichsoperatoren:\n",
    "\n",
    "  * `==` liefert `True`, wenn beide Werte gleich sind\n",
    "  * `!=` liefert `True`, wenn beide Werte ungleich sind\n",
    "  * `<` liefert `True`, wenn der linke Wert kleiner als der rechte Wert ist \n",
    "  * `<=` liefert `True`, wenn der linke Wert kleiner gleich dem rechten Wert ist \n",
    "  * `>` liefert `True`, wenn der linke Wert größer als der rechte Wert ist \n",
    "  * `>=` liefert `True`, wenn der linke Wert größer gleich dem rechten Wert ist "
   ]
  },
  {
   "cell_type": "code",
   "execution_count": null,
   "metadata": {},
   "outputs": [],
   "source": [
    "'abc' != 'def'"
   ]
  },
  {
   "cell_type": "code",
   "execution_count": null,
   "metadata": {},
   "outputs": [],
   "source": [
    "5 > 4"
   ]
  },
  {
   "cell_type": "code",
   "execution_count": null,
   "metadata": {},
   "outputs": [],
   "source": [
    "7 <= 7"
   ]
  },
  {
   "cell_type": "code",
   "execution_count": null,
   "metadata": {},
   "outputs": [],
   "source": [
    "'a' < 'b'"
   ]
  },
  {
   "cell_type": "markdown",
   "metadata": {},
   "source": [
    "Zusätzlich kann man auf Objektidentität testen. Die entsprechenden Operatoren sind ``is`` und ``is not``.\n",
    "Sie liefern nur ``True`` wenn beide Werte dasselbe Objekt darstellen. In der Praxis sollten diese beide Operatoren nur für diese Datentypen verwendet werden: `bool` und `None` (kommt später noch)."
   ]
  },
  {
   "cell_type": "code",
   "execution_count": null,
   "metadata": {},
   "outputs": [],
   "source": [
    "True is True"
   ]
  },
  {
   "cell_type": "code",
   "execution_count": null,
   "metadata": {},
   "outputs": [],
   "source": [
    "True is False"
   ]
  },
  {
   "cell_type": "code",
   "execution_count": null,
   "metadata": {},
   "outputs": [],
   "source": [
    "5 is None"
   ]
  },
  {
   "cell_type": "markdown",
   "metadata": {},
   "source": [
    "## Variablen"
   ]
  },
  {
   "cell_type": "markdown",
   "metadata": {},
   "source": [
    "Variablen sind Namen für Werte. (Unter Informatikern hört man öfter, dass Python keine echten Variablen hat, sondern dass man besser den Begriff *Name* dafür verwenden sollte, wir bleiben aber bei *Variable*, weil das ein in fast allen Programmiersprachen verwendeter Begriff ist.)\n",
    "\n",
    "Eine Variable ist also ein Name (den wir selbst festlegen müssen), der auf einen bestimmten Wert zeigt:"
   ]
  },
  {
   "cell_type": "code",
   "execution_count": null,
   "metadata": {},
   "outputs": [],
   "source": [
    "vorname = 'Gunter'\n",
    "print(vorname)"
   ]
  },
  {
   "cell_type": "markdown",
   "metadata": {},
   "source": [
    "Dabei können beliebig viele Variablen auf ein und denselben Wert zeigen:"
   ]
  },
  {
   "cell_type": "code",
   "execution_count": null,
   "metadata": {},
   "outputs": [],
   "source": [
    "vorname = 'Wolfgang Amadeus'\n",
    "firstname = vorname\n",
    "vorname, firstname"
   ]
  },
  {
   "cell_type": "markdown",
   "metadata": {},
   "source": [
    "Wir können überprüfen, ob die beiden Variablen wirklich auf denselben Wert zeigen, indem wir die Funktion `id()` verwenden. Jedes Objekt hat eine eindeutige Id, die mit der Funktion `id()` ausgelesen werden kann:"
   ]
  },
  {
   "cell_type": "code",
   "execution_count": null,
   "metadata": {},
   "outputs": [],
   "source": [
    "id(vorname), id(firstname)"
   ]
  },
  {
   "cell_type": "markdown",
   "metadata": {},
   "source": [
    "Weisen wir hingegen zweimal einen (und zwar denselben) Wert zu, zeigen die beiden Variablen auf unterschiedliche Objekte:"
   ]
  },
  {
   "cell_type": "code",
   "execution_count": null,
   "metadata": {},
   "outputs": [],
   "source": [
    "vorname = 'Wolfgang Amadeus'\n",
    "firstname = 'Wolfgang Amadeus'\n",
    "id(vorname), id(firstname)"
   ]
  },
  {
   "cell_type": "markdown",
   "metadata": {},
   "source": [
    "### Variablen sind variabel\n",
    "Wie der Name schon ausdrückt, kann einer Variable zur Laufzeit beliebig oft ein neuer Wert zugewiesen werden (das gilt jedoch nicht für streng funktionale Sprachen!)"
   ]
  },
  {
   "cell_type": "code",
   "execution_count": null,
   "metadata": {},
   "outputs": [],
   "source": [
    "vorname = 'Wolfgang Amadeus'\n",
    "vorname"
   ]
  },
  {
   "cell_type": "code",
   "execution_count": null,
   "metadata": {},
   "outputs": [],
   "source": [
    "print(vorname)\n",
    "vorname = 'Ludwig'\n",
    "print(vorname)"
   ]
  },
  {
   "cell_type": "markdown",
   "metadata": {},
   "source": [
    "### Variablen und Nicht-Werte"
   ]
  },
  {
   "cell_type": "markdown",
   "metadata": {},
   "source": [
    "Python kennt einen speziellen Datentyp `NoneType`, der genau einen Wert annehmen kann: `None`. "
   ]
  },
  {
   "cell_type": "code",
   "execution_count": null,
   "metadata": {},
   "outputs": [],
   "source": [
    "type(None)"
   ]
  },
  {
   "cell_type": "markdown",
   "metadata": {},
   "source": [
    "`None` ist ein Nicht-Wert, der überall dort verwendet wird, wo kein Wert vorhanden ist. Beispielsweise kann eine Variable zunächst mit dem Wert `None` initialisert werden und erst später im Programmablauf einen anderen Wert bekommen.\n",
    "Will man testen, ob der Wert einer Variable auf `None` steht, sollte man den `is`-Operator verwenden:"
   ]
  },
  {
   "cell_type": "code",
   "execution_count": null,
   "metadata": {},
   "outputs": [],
   "source": [
    "firstname = None\n",
    "firstname is None"
   ]
  },
  {
   "cell_type": "markdown",
   "metadata": {},
   "source": [
    "### Variablen und Datentypen"
   ]
  },
  {
   "cell_type": "markdown",
   "metadata": {},
   "source": [
    "Weil Variablen (Namen) auf Werte mit bestimmten Datentypen zeigen, sagt man, dass eine Variable einen bestimmten Typ hat. `vorname` im Beispiel oben ist vom Typ `str`."
   ]
  },
  {
   "cell_type": "code",
   "execution_count": null,
   "metadata": {},
   "outputs": [],
   "source": [
    "vorname = 'Gunter'\n",
    "type(vorname)"
   ]
  },
  {
   "cell_type": "markdown",
   "metadata": {},
   "source": [
    "### Python als dynamisch typisierte Sprache\n",
    "Anders als bei statisch typisierten Sprache wie C oder Java, wo man den Typ einer Variable beim Initialisieren angeben muss, und diese Variablen den Datentyp während der gesamten Laufzeit beibehält, ist Python eine dynamische Sprache. Das bedeutet, dass einer Variable zur Laufzeit ein neuer Wert mit einem anderen Datentyp zugewiesen werden kann."
   ]
  },
  {
   "cell_type": "code",
   "execution_count": null,
   "metadata": {},
   "outputs": [],
   "source": [
    "alter = 29\n",
    "print(alter, type(alter))\n",
    "alter = 'alt'\n",
    "print(alter, type(alter))"
   ]
  },
  {
   "cell_type": "markdown",
   "metadata": {},
   "source": [
    "### Python als stark typisierte Sprache\n",
    "Anders als bei schwach typisierten Sprachen wie z.B. JavaScript, wo sich der\n",
    "Typ eines Wertes zur Laufzeit ändern kann, behält ein Wert während seiner\n",
    "Existenz immer denselben Datentyp. Deshalb spricht man von einer **stark aber\n",
    "dynamisch typisierten** Sprache."
   ]
  },
  {
   "cell_type": "markdown",
   "metadata": {},
   "source": [
    "### Auf Variablentyp testen\n",
    "Da Variablen (nicht Werte!) ihren Typ im Programmablauf ändern können, braucht es manchmal eine Möglichkeit zu testen, ob eine Variable einen bestimmten Typ hat.\n",
    "Dazu dient die Funktion `isistance()`: "
   ]
  },
  {
   "cell_type": "code",
   "execution_count": null,
   "metadata": {},
   "outputs": [],
   "source": [
    "alter = 29\n",
    "isinstance(alter, int)"
   ]
  },
  {
   "cell_type": "code",
   "execution_count": null,
   "metadata": {},
   "outputs": [],
   "source": [
    "isinstance(alter, str)"
   ]
  },
  {
   "cell_type": "markdown",
   "metadata": {},
   "source": [
    "## Vertiefende Literatur\n",
    "Ich empfehle ausdrücklich, mindestens eine der folgenden Ressourcen zur Vertiefung zu lesen!\n",
    "\n",
    "  * Python Tutorial: Kapitel 3 (3.1.1 und 3.2.1)\n",
    "    (http://docs.python.org/3/tutorial/introduction.html)\n",
    "  * Klein, Kurs:\n",
    "    * Datentypen und Variablen (http://python-kurs.eu/python3_variablen.php)\n",
    "    * Operatoren (http://python-kurs.eu/python3_operatoren.php)\n",
    "  * Klein, Buch: Kapitel 4\n",
    "  * Weigend: Kapitel 4 (4.1-4.9)\n",
    "  * Pilgrim: Kapitel 2 (2.1, 2.2, 2.3, 2.8) \n",
    "    (http://www.diveintopython3.net/native-datatypes.html)\n",
    "  * Downey: Kapitel 2 (http://www.greenteapress.com/thinkpython/html/thinkpython003.html)"
   ]
  }
 ],
 "metadata": {
  "kernelspec": {
   "display_name": "Python 3",
   "language": "python",
   "name": "python3"
  },
  "language_info": {
   "codemirror_mode": {
    "name": "ipython",
    "version": 3
   },
   "file_extension": ".py",
   "mimetype": "text/x-python",
   "name": "python",
   "nbconvert_exporter": "python",
   "pygments_lexer": "ipython3",
   "version": "3.5.3"
  }
 },
 "nbformat": 4,
 "nbformat_minor": 2
}
