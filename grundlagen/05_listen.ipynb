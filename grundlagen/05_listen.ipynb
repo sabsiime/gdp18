{
 "cells": [
  {
   "cell_type": "markdown",
   "metadata": {},
   "source": [
    "# Listen\n",
    "Eine Liste ist ein weiterer Sequenztyp. Eine Liste enthält eine geordnete Sequenz von Elementen. \n",
    "Im Code wird eine Liste durch eckige Klammern gekennzeichnet.\n",
    "\n",
    "~~~\n",
    "my_friends = ['Otto', 'Anna', 'Berta', 'Fritz']\n",
    "~~~"
   ]
  },
  {
   "cell_type": "markdown",
   "metadata": {},
   "source": [
    "Der Datentyp eines Listen-Elements ist egal, oder anders gesagt: In einer Liste können Elemente mit beliebigen Typen gespeichert werden:\n",
    "            "
   ]
  },
  {
   "cell_type": "code",
   "execution_count": null,
   "metadata": {},
   "outputs": [],
   "source": [
    "students = ['Otto', 'Anna', 'Maria', 'Franz']\n",
    "students"
   ]
  },
  {
   "cell_type": "code",
   "execution_count": null,
   "metadata": {},
   "outputs": [],
   "source": [
    "temperatures = [25, 28, 20, 26, 32]\n",
    "temperatures"
   ]
  },
  {
   "cell_type": "markdown",
   "metadata": {},
   "source": [
    "In einer Liste können sogar Elemente unterschiedlichen Typs gespeichert werden (das ist aber meist keine besonders gute Idee):"
   ]
  },
  {
   "cell_type": "code",
   "execution_count": null,
   "metadata": {},
   "outputs": [],
   "source": [
    "values = ['Otto', 7, True, 3.14]\n",
    "values"
   ]
  },
  {
   "cell_type": "markdown",
   "metadata": {},
   "source": [
    "Da eine Liste so wie ein String ein Sequenztyp ist, funktionieren viele Dinge, die wir bei Strings kennengelernt haben, auch bei Listen. \n",
    "\n",
    "## Zahl der Listenelemente ermitteln\n",
    "Wir können die Zahl der Elemente einer Liste mit der Funktion `len()` ermitteln:"
   ]
  },
  {
   "cell_type": "code",
   "execution_count": null,
   "metadata": {},
   "outputs": [],
   "source": [
    "len(students)"
   ]
  },
  {
   "cell_type": "markdown",
   "metadata": {},
   "source": [
    "## Einzelne Elemente adressieren\n",
    "Wie bei einem String über den Index auf ein einzelnes Zeichen zugegriffen werden kann, kann bei einer Liste ein bestimmtes Element adressiert werden:\n"
   ]
  },
  {
   "cell_type": "code",
   "execution_count": null,
   "metadata": {},
   "outputs": [],
   "source": [
    "students[0]"
   ]
  },
  {
   "cell_type": "markdown",
   "metadata": {},
   "source": [
    "## Slicing\n",
    "Außerdem können Teillisten extrahiert werden:"
   ]
  },
  {
   "cell_type": "code",
   "execution_count": null,
   "metadata": {},
   "outputs": [],
   "source": [
    "students[1:3]"
   ]
  },
  {
   "cell_type": "markdown",
   "metadata": {},
   "source": [
    "## Listen verändern\n",
    "Im Unterschied zu Strings sind Listen nachträglich veränderbar. Wir können jederzeit neue Elemente hinzufügen. Die Mehode `append(WERT)` fügt ein neues Element am Ende der Liste ein:"
   ]
  },
  {
   "cell_type": "code",
   "execution_count": null,
   "metadata": {},
   "outputs": [],
   "source": [
    "print(students)\n",
    "students.append('Otto')\n",
    "print(students)"
   ]
  },
  {
   "cell_type": "markdown",
   "metadata": {},
   "source": [
    "Wir können aber auch Elemente an beliebiger Position einfügen:"
   ]
  },
  {
   "cell_type": "code",
   "execution_count": null,
   "metadata": {},
   "outputs": [],
   "source": [
    "students.insert(0, 'Berta')\n",
    "students"
   ]
  },
  {
   "cell_type": "markdown",
   "metadata": {},
   "source": [
    "Ebenso können wir Elemente wieder entfernen. Die Methode `pop()` entfernt das letzte Element der Liste."
   ]
  },
  {
   "cell_type": "code",
   "execution_count": null,
   "metadata": {},
   "outputs": [],
   "source": [
    "next_student = students.pop()\n",
    "print(next_student)\n",
    "print(students)"
   ]
  },
  {
   "cell_type": "markdown",
   "metadata": {},
   "source": [
    "`pop()` kann aber auch optional mit einem Argument aufgerufen werden: Einer Zahl, die dem Index des zu entfernenden Objekts entspricht:"
   ]
  },
  {
   "cell_type": "code",
   "execution_count": null,
   "metadata": {},
   "outputs": [],
   "source": [
    "first = students.pop(0)\n",
    "print(first)\n",
    "students"
   ]
  },
  {
   "cell_type": "markdown",
   "metadata": {},
   "source": [
    "## Elemente ersetzen\n",
    "Über den Index kann der Wert eines Elements der Liste jederzeit verändert werden:"
   ]
  },
  {
   "cell_type": "code",
   "execution_count": null,
   "metadata": {},
   "outputs": [],
   "source": [
    "print(students)\n",
    "students[1] = 'Berta'\n",
    "print(students)"
   ]
  },
  {
   "cell_type": "markdown",
   "metadata": {},
   "source": [
    "## Mehrdimensionale Listen\n",
    "Wir haben gesehen, dass eine Liste beliebige Typen enthalten kann. Dazu gehören auch Listen. Wir können also auch eine Liste von Listen erzeugen. Stellen wir uns vor, wir messen drei Mal täglich die Temperatur und möchten diese speichern. Am ersten Tag haben wir diese 3 Messungen: `[17, 28, 24]`. Am zweiten Tage messen wird diese Werte: `[18, 31, 28]`. Wir haben also eine Liste pro Tag. Die einzelnen Tage (sprich: Listen) können wir wieder in ein Liste speichern:"
   ]
  },
  {
   "cell_type": "code",
   "execution_count": null,
   "metadata": {},
   "outputs": [],
   "source": [
    "temperatures = [\n",
    "    [17, 28, 24],\n",
    "    [18, 31, 28],\n",
    "    [20, 35, 29]\n",
    "]"
   ]
  },
  {
   "cell_type": "markdown",
   "metadata": {},
   "source": [
    "Wir können uns diese Temperaturen als Tabelle vorstellen: Jede Zeile repräsentiert einen Tag, jede Spalte einen Meßzeitpunkt (z.B. 6:00, 12:00, 18:00). Wie wir auf die Messwerte eines bestimmten Tages zugreifen können, haben wir schon gelernt:"
   ]
  },
  {
   "cell_type": "code",
   "execution_count": null,
   "metadata": {},
   "outputs": [],
   "source": [
    "temperatures[1]"
   ]
  },
  {
   "cell_type": "markdown",
   "metadata": {},
   "source": [
    "Da das gewählte Element wieder eine Liste ist, können wir auch auf einzelne Element zugreifen. Den ersten Messwert des zweiten Tages erhalten wir so:"
   ]
  },
  {
   "cell_type": "code",
   "execution_count": null,
   "metadata": {},
   "outputs": [],
   "source": [
    "temperatures[1][0]"
   ]
  },
  {
   "cell_type": "markdown",
   "metadata": {},
   "source": [
    "## Mit Listen-Werten rechnen\n",
    "Für numerische Listen (int, float) stellt Python Funktionen bereit, die auf alle Werte einer Liste angewandt werden können:\n",
    "\n",
    "  * `max(liste)` ermittelt den größten vorkommenden Wert\n",
    "  * `min(liste)` ermittelt den kleinsten vorkommenden Wert\n",
    "  * `sum(liste)` ermittelt die Summe aller Werte"
   ]
  },
  {
   "cell_type": "code",
   "execution_count": null,
   "metadata": {},
   "outputs": [],
   "source": [
    "max(temperatures[0])"
   ]
  },
  {
   "cell_type": "markdown",
   "metadata": {},
   "source": [
    "### Übung \n",
    "Wie hoch ist die gemittelte Mittagstemperatur?"
   ]
  },
  {
   "cell_type": "code",
   "execution_count": null,
   "metadata": {},
   "outputs": [],
   "source": []
  },
  {
   "cell_type": "markdown",
   "metadata": {},
   "source": [
    "## Zeilen einer Datei in eine Liste lesen\n",
    "Kehren wir zurück zu unsere Datei mit den Vornamen. Wie wir gesehen haben, liefert die Methode `readlines()` den Inhalt einer Datei als Liste von Zeilen:"
   ]
  },
  {
   "cell_type": "code",
   "execution_count": null,
   "metadata": {},
   "outputs": [],
   "source": [
    "with open('data/vornamen/names_short.txt', encoding='utf-8') as fh:\n",
    "    lines = fh.readlines()\n",
    "print(lines)"
   ]
  },
  {
   "cell_type": "markdown",
   "metadata": {},
   "source": [
    "## Exkurs: Die String-Methoden rstrip(), lstrip() und strip()\n",
    "Wie wir sehen, enthält jedes Listenelement am Ende das Zeilenumbruchszeichen `\\n` (line feed). Wir könnten dieses z.B. mit Slicing entfernen, jedoch bietet der String-Typ eine Methode `.rstrip()`, die genau das tut, was wird brauchen:"
   ]
  },
  {
   "cell_type": "code",
   "execution_count": null,
   "metadata": {},
   "outputs": [],
   "source": [
    "s = 'abc\\n'\n",
    "s.rstrip()"
   ]
  },
  {
   "cell_type": "markdown",
   "metadata": {},
   "source": [
    "`rstrip()` entfernt allen Whitespace (Leerzeichen, Tabulaturen, Zeilenumbrüche etc.) am Ende einen Strings. Zusätzlich gibt es noch `lstrip()`, das Whitespace am Anfang eines Strings entfernt, und `strip()`, das Whitespace links und rechts entfernt."
   ]
  },
  {
   "cell_type": "code",
   "execution_count": null,
   "metadata": {},
   "outputs": [],
   "source": [
    "s = '   abc   '\n",
    "print('rstrip: \"{}\"'.format(s.rstrip()))\n",
    "print('lstrip(): \"{}\"'.format(s.lstrip()))\n",
    "print('strip(): \"{}\"'.format(s.strip()))"
   ]
  },
  {
   "cell_type": "markdown",
   "metadata": {},
   "source": [
    "## Zeilenumbrüche in einer Liste von Strings entfernen \n",
    "### Methode 1: in einer Schleife\n",
    "Wenn wir nun alle Zeilenumbrüche aus unserer Liste `lines` entfernen wollen, können wir das in einer `for`-Schleife tun:"
   ]
  },
  {
   "cell_type": "code",
   "execution_count": null,
   "metadata": {},
   "outputs": [],
   "source": [
    "clean_names = []\n",
    "for line in lines:\n",
    "    clean_names.append(line.rstrip())\n",
    "print(clean_names)"
   ]
  },
  {
   "cell_type": "markdown",
   "metadata": {},
   "source": [
    "Damit haben wir auch schon die erste Listen-Methode verwendet, die es bei Strings (die unveränderbar sind) nicht gibt: Mit `list.append(WERT)`  können wir der Liste einen weiteren Wert hinzufügen. Dieser Wert wird hinten an die Liste angefügt:"
   ]
  },
  {
   "cell_type": "code",
   "execution_count": null,
   "metadata": {},
   "outputs": [],
   "source": [
    "queue = ['Anna', 'Hans', 'Berta']\n",
    "queue.append('Dora')\n",
    "queue"
   ]
  },
  {
   "cell_type": "markdown",
   "metadata": {},
   "source": [
    "## Methode 2: mit einer List Comprehension\n",
    "List Comprehensions sind ein aus dem Bereich der funktionalen Programmierung kommender Ansatz, um eine Aktion auf alle Elemente eine Liste anzuwenden."
   ]
  },
  {
   "cell_type": "code",
   "execution_count": null,
   "metadata": {},
   "outputs": [],
   "source": [
    "clean_names = [line.rstrip() for line in lines]\n",
    "print(clean_names)"
   ]
  },
  {
   "cell_type": "markdown",
   "metadata": {},
   "source": [
    "### Übung\n",
    "Schreiben Sie eine List Comprehension, die jeden Wert der Liste `nums` mit sich selbst multipliziert."
   ]
  },
  {
   "cell_type": "code",
   "execution_count": null,
   "metadata": {},
   "outputs": [],
   "source": [
    "nums = [4, 9, 17, 5, 99]\n",
    "# TODO: fertig machen"
   ]
  },
  {
   "cell_type": "markdown",
   "metadata": {
    "collapsed": true
   },
   "source": [
    "## Vertiefende Literatur\n",
    "Ich empfehle ausdrücklich, mindestens eine der folgenden Ressourcen zur Vertiefung zu lesen!\n",
    "\n",
    "  * Python Tutorial: \n",
    "\t* Kapitel 3.1.3 \n",
    "\t  (http://docs.python.org/3.3/tutorial/introduction.html\\#lists)\n",
    "  * Klein, Kurs: \n",
    "\t* Sequentielle Datentypen\n",
    "\t  (http://python-kurs.eu/python3_sequentielle_datentypen.php) \n",
    "\t* Listen\n",
    "\t  (http://python-kurs.eu/python3_listen.php)\n",
    "  * Klein, Buch: Kapitel 5\n",
    "  * Weigend: Kapitel 4.10 \n",
    "\n",
    "  * Pilgrim: Kapitel 2.4 und 2.5\n",
    "\t(http://www.diveintopython3.net/native-datatypes.html)\n",
    "  * Briggs: Kapitel 4.1 -- 4.3\n",
    "  * Downey: \n",
    "\t* Strings (http://www.greenteapress.com/thinkpython/html/thinkpython009.html)\n",
    "\t* Lists (http://www.greenteapress.com/thinkpython/html/thinkpython011.html)\n",
    "\t* Tuples (http://www.greenteapress.com/thinkpython/html/thinkpython013.html)\n"
   ]
  }
 ],
 "metadata": {
  "kernelspec": {
   "display_name": "Python 3",
   "language": "python",
   "name": "python3"
  },
  "language_info": {
   "codemirror_mode": {
    "name": "ipython",
    "version": 3
   },
   "file_extension": ".py",
   "mimetype": "text/x-python",
   "name": "python",
   "nbconvert_exporter": "python",
   "pygments_lexer": "ipython3",
   "version": "3.7.0"
  }
 },
 "nbformat": 4,
 "nbformat_minor": 2
}
