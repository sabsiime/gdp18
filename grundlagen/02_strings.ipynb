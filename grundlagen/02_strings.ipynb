{
 "cells": [
  {
   "cell_type": "markdown",
   "metadata": {},
   "source": [
    "# Strings"
   ]
  },
  {
   "cell_type": "markdown",
   "metadata": {},
   "source": [
    "## Strings sind Sequenzen von Zeichen\n",
    "\n",
    "Python kennt eine Reihe von *Sequenztypen*, zu denen auch Strings gehören. Solche Sequenztypen, die den Vorteil haben, sich alle in einer ähnlichen Weise verwenden zu lassen, werden wir später noch einige kennen lernen.\n",
    "\n",
    "Beginnen wir aber mit einem ersten Sequenztyps: den Strings.\n",
    "\n",
    "Strings sind Zeichenketten, also geordnete Abfolgen von Zeichen. \n",
    "\n",
    "![string1.png](img/string1.png)\n",
    "\n",
    "Ein String wird erzeugt, indem wir einen Wert in Anführungszeichen setzen (egal ob einfache oder doppelte):\n",
    "\n",
    "~~~\n",
    "name = \"Hudri Wudri\"\n",
    "name = 'Hudri Wudri'\n",
    "~~~"
   ]
  },
  {
   "cell_type": "markdown",
   "metadata": {},
   "source": [
    "## Die Länge der Sequenz ermitteln\n",
    "Die Zahl der Element in der Sequenz (also die Zahl der Zeichen im String) kann mit der Funktion `len()` ermittelt werden:"
   ]
  },
  {
   "cell_type": "code",
   "execution_count": null,
   "metadata": {},
   "outputs": [],
   "source": [
    "satz = 'Ein String ist eine Zeichenkette.'\n",
    "len(satz)"
   ]
  },
  {
   "cell_type": "markdown",
   "metadata": {},
   "source": [
    "## Adressierung einzelner Elemente\n",
    "Jedes Element in der Sequenz kann einzeln addressiert werden:\n",
    "\n",
    "![String2.png](img/string2.png)\n",
    "\n",
    "Dabei ist zu beachten, dass das erste Element der Sequenz den Index 0 hat!"
   ]
  },
  {
   "cell_type": "code",
   "execution_count": null,
   "metadata": {},
   "outputs": [],
   "source": [
    "# Für die folgenden Beispiele ist ein kurzer String übersichtlicher\n",
    "satz = \"Ein String\"\n",
    "satz[0]"
   ]
  },
  {
   "cell_type": "markdown",
   "metadata": {},
   "source": [
    "### Ausprobieren\n",
    "Was passiert, wenn ich auf `satz[10]` zugreife?"
   ]
  },
  {
   "cell_type": "code",
   "execution_count": null,
   "metadata": {},
   "outputs": [],
   "source": []
  },
  {
   "cell_type": "markdown",
   "metadata": {},
   "source": [
    "## Slicing: Herausschneiden eines Substrings\n",
    "Durch Angabe zweier, durch einen Doppelpunkt getrennter Werte (Index des ersten herauszuschneidenden und des ersten nicht mehr herauszuschneidenden Elements) kann man aus einem String einen Teilstring extrahieren:\n",
    "\n",
    "![string4.png](img/string4.png)"
   ]
  },
  {
   "cell_type": "code",
   "execution_count": null,
   "metadata": {},
   "outputs": [],
   "source": [
    "satz[0:3]"
   ]
  },
  {
   "cell_type": "markdown",
   "metadata": {},
   "source": [
    "Ist der erste Wert `0`, kann dieser weggelassen werden:"
   ]
  },
  {
   "cell_type": "code",
   "execution_count": null,
   "metadata": {},
   "outputs": [],
   "source": [
    "satz[:3]"
   ]
  },
  {
   "cell_type": "markdown",
   "metadata": {},
   "source": [
    "Wird der zweite Wert weggelassen, ist das gleichbedeutend mit \"bis zum Ende des Strings\":"
   ]
  },
  {
   "cell_type": "code",
   "execution_count": null,
   "metadata": {},
   "outputs": [],
   "source": [
    "satz[3:]"
   ]
  },
  {
   "cell_type": "markdown",
   "metadata": {},
   "source": [
    "## Zugriff auf das Stringende\n",
    "In den meisten Programmiersprachen muss man auf das letzte Elemente eines Strings so zugreifen:"
   ]
  },
  {
   "cell_type": "code",
   "execution_count": null,
   "metadata": {},
   "outputs": [],
   "source": [
    "satz[len(satz)-1]"
   ]
  },
  {
   "cell_type": "markdown",
   "metadata": {},
   "source": [
    "In Python gibt es dazu eine elegante Alternative: Man kann negative Zahlen verwenden, um von hinten her auf einzelne Zeichen zuzugreifen:\n",
    "\n",
    "![string3.png](img/string3.png)\n",
    "\n",
    "Das letzte Zeichen des Strings hat als den Index `-1`, das vorletzte `-2` usw."
   ]
  },
  {
   "cell_type": "code",
   "execution_count": null,
   "metadata": {},
   "outputs": [],
   "source": [
    "satz[-1]"
   ]
  },
  {
   "cell_type": "markdown",
   "metadata": {},
   "source": [
    "Auch Slicing funktioniert mit negativen Index-Werten:"
   ]
  },
  {
   "cell_type": "code",
   "execution_count": null,
   "metadata": {},
   "outputs": [],
   "source": [
    "satz[-4:-1]"
   ]
  },
  {
   "cell_type": "markdown",
   "metadata": {},
   "source": [
    "Innerhalb der eckigen Klammern kann noch ein dritter numerischer Wert stehen, der die Schrittbreite festlegt:"
   ]
  },
  {
   "cell_type": "code",
   "execution_count": null,
   "metadata": {},
   "outputs": [],
   "source": [
    "print(satz)\n",
    "satz[:8:2]"
   ]
  },
  {
   "cell_type": "markdown",
   "metadata": {},
   "source": [
    "Dieser dritte Wert kann auch negativ sein, wodurch die Richtung umgedreht wird. Damit kann man sehr einfach einen String \"umdrehen\":"
   ]
  },
  {
   "cell_type": "code",
   "execution_count": null,
   "metadata": {},
   "outputs": [],
   "source": [
    "satz[::-1]"
   ]
  },
  {
   "cell_type": "markdown",
   "metadata": {},
   "source": [
    "## String Formatting / String Templates\n",
    "Python kennt mehrere Arten, Variablen oder Ausdrücke in einen String einzubauen.\n",
    "\n",
    "### format()\n",
    "Die derzeit empfohlene Art des String Formattings ist die String-Methode `format()`, die in ihrer einfachsten Form jedes Paar geschwungener Klammern durch einen Wert in der Reihenfolge der Argumente von `format()` ersetzt:"
   ]
  },
  {
   "cell_type": "code",
   "execution_count": null,
   "metadata": {},
   "outputs": [],
   "source": [
    "name = input('Gib deinen Namen ein: ')\n",
    "age = int(input('Gib dein Alter ein: '))\n",
    "print(\"Hallo {}! Du bist ca. {} Tage alt.\".format(name, age * 365.25))"
   ]
  },
  {
   "cell_type": "markdown",
   "metadata": {},
   "source": [
    "Die Ausgabe kann auch formatiert werden, hier etwa legen wir fest, dass die Fließkommazahl mit zwei Kommastellen ausgegeben werden soll:"
   ]
  },
  {
   "cell_type": "code",
   "execution_count": null,
   "metadata": {},
   "outputs": [],
   "source": [
    "print(\"Hallo {}! Du bist ca. {:.2f} Tage alt.\".format(name, age * 365.25))"
   ]
  },
  {
   "cell_type": "markdown",
   "metadata": {},
   "source": [
    "### Formatierung über den %-Operator\n",
    "\n",
    "Die älteste Art des String Formatting funktioniert, wie in anderen Sprachen auch, über den `%`-Operator. Diese Art ist noch weit verbreitet, wird aber nicht mehr empfohlen.\n",
    "`%s` steht dabei als Platzhalter für einen String, `%d` als Platzhalter für einen Integer und `%f` für einen Float:"
   ]
  },
  {
   "cell_type": "code",
   "execution_count": null,
   "metadata": {},
   "outputs": [],
   "source": [
    "print('Hallo %s! Du bist ca. %.2f Tage alt!' % (name, age * 365.25))"
   ]
  },
  {
   "cell_type": "markdown",
   "metadata": {},
   "source": [
    "### Ganz neu: f-Strings\n",
    "Die neuste Art, Strings zu formattieren, stellen seit Python 3.6 so genannte f-Strings dar:"
   ]
  },
  {
   "cell_type": "code",
   "execution_count": null,
   "metadata": {},
   "outputs": [],
   "source": [
    "print(f'Hallo {name}. Du bist ca. {age * 365.35} Tage alt.')"
   ]
  },
  {
   "cell_type": "markdown",
   "metadata": {},
   "source": [
    "auch hier kann formatiert werden:"
   ]
  },
  {
   "cell_type": "code",
   "execution_count": null,
   "metadata": {},
   "outputs": [],
   "source": [
    "print(f'Hallo {name}. Du bist ca. {age * 365.35:.2f} Tage alt.')"
   ]
  },
  {
   "cell_type": "markdown",
   "metadata": {},
   "source": [
    "## Übung\n",
    "Schreiben wir ein Programm, das\n",
    "\n",
    "  1. Zur Eingabe eines Namens auffordert\n",
    "  1. Diese Eingabe in einer Variable zuweist\n",
    "  1. Folgende Ausgabe produziert:\n",
    "     \"Dein Name ist XYZ und besteht aus n Zeichen. Er beginnt mit X und endet mit Z. Von hinten gelesen lautet er ZYX."
   ]
  },
  {
   "cell_type": "code",
   "execution_count": null,
   "metadata": {},
   "outputs": [],
   "source": []
  },
  {
   "cell_type": "markdown",
   "metadata": {},
   "source": [
    "## Vertiefende Literatur\n",
    "Ich empfehle ausdrücklich, mindestens eine der folgenden Ressourcen zur Vertiefung zu lesen!\n",
    "\n",
    "  * Python Standard Library: Kapitel 4.7.1\n",
    "\t(http://docs.python.org/3/library/stdtypes.html\\#string-methods).\n",
    "  * Klein, Buch: Kapitel 17.\n",
    "  * Weigend: Kapitel 13.1 und 13.3.\n",
    "  * Pilgrim: Kapitel 4 (v.a. 4.4. und 4.5.)\n",
    "\t(http://www.diveintopython3.net/strings.html).\n",
    "  * Downey: Kapitel 8.8\n",
    "    (http://www.greenteapress.com/thinkpython/html/thinkpython009.html\\#toc93).\n",
    "  * Sweigart: Kapitel 6"
   ]
  }
 ],
 "metadata": {
  "kernelspec": {
   "display_name": "Python 3",
   "language": "python",
   "name": "python3"
  },
  "language_info": {
   "codemirror_mode": {
    "name": "ipython",
    "version": 3
   },
   "file_extension": ".py",
   "mimetype": "text/x-python",
   "name": "python",
   "nbconvert_exporter": "python",
   "pygments_lexer": "ipython3",
   "version": "3.7.0"
  }
 },
 "nbformat": 4,
 "nbformat_minor": 2
}
