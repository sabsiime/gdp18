{
 "cells": [
  {
   "cell_type": "markdown",
   "metadata": {},
   "source": [
    "# Dictionaries\n",
    "\n",
    "Dictionaries, die in anderen Programmiersprachen auch *Maps*, *Hashtables* oder *Assoziative Arrays* heißen, sind (intern) einer der wichtigsten Typen in Python. In einem Dictionary wird jeder Wert über einen Key (Schlüssel) referenziert.\n",
    "Ein leeres Dictionary wird so angelegt:"
   ]
  },
  {
   "cell_type": "code",
   "execution_count": null,
   "metadata": {},
   "outputs": [],
   "source": [
    "phone_numbers = {}"
   ]
  },
  {
   "cell_type": "markdown",
   "metadata": {},
   "source": [
    "Dann können Werte eingefügt werden:"
   ]
  },
  {
   "cell_type": "code",
   "execution_count": null,
   "metadata": {},
   "outputs": [],
   "source": [
    "phone_numbers['Anna'] = '0316 123456'\n",
    "phone_numbers['Hans'] = '0664 345678'\n",
    "phone_numbers['Otto'] = '0660 987654'"
   ]
  },
  {
   "cell_type": "markdown",
   "metadata": {},
   "source": [
    "Dann können Werte abgefragt werden:"
   ]
  },
  {
   "cell_type": "code",
   "execution_count": null,
   "metadata": {},
   "outputs": [],
   "source": [
    "phone_numbers['Hans']"
   ]
  },
  {
   "cell_type": "markdown",
   "metadata": {},
   "source": [
    "**Wichtig**: in einem Dictionary kann ein Schlüssel nur einmal verwendet werden. Wird er ein zweites Mal verwendet, wird der ursprüngliche Wert überschrieben."
   ]
  },
  {
   "cell_type": "code",
   "execution_count": null,
   "metadata": {},
   "outputs": [],
   "source": [
    "phone_numbers['Hans'] = '0521 578978'\n",
    "phone_numbers"
   ]
  },
  {
   "cell_type": "markdown",
   "metadata": {},
   "source": [
    "Wenn man will, kann man die Schlüssel-Wertpaare auch direkt anlegen:"
   ]
  },
  {
   "cell_type": "code",
   "execution_count": null,
   "metadata": {},
   "outputs": [],
   "source": [
    "phone_numbers = {\n",
    "    'Anna': '0316 123456',\n",
    "    'Hans': '0664 345678',\n",
    "    'Otto': '0660 987654'\n",
    "}\n",
    "phone_numbers"
   ]
  },
  {
   "cell_type": "markdown",
   "metadata": {},
   "source": [
    "Viele Dinge, die wir von Sequenztypen kennen, funktionieren auch mit Dictionaries. `len()` ermittelt die Zahl der Einträge:"
   ]
  },
  {
   "cell_type": "code",
   "execution_count": null,
   "metadata": {},
   "outputs": [],
   "source": [
    "len(phone_numbers)"
   ]
  },
  {
   "cell_type": "markdown",
   "metadata": {},
   "source": [
    "Der `in`-Operator ermittelt, ob ein bestimmter Key im Dictionary vorhanden ist:"
   ]
  },
  {
   "cell_type": "code",
   "execution_count": null,
   "metadata": {},
   "outputs": [],
   "source": [
    "'Hans' in phone_numbers"
   ]
  },
  {
   "cell_type": "markdown",
   "metadata": {},
   "source": [
    "Man kan einfach über alle Key eines Dictionaries iterieren:"
   ]
  },
  {
   "cell_type": "code",
   "execution_count": null,
   "metadata": {},
   "outputs": [],
   "source": [
    "for key in phone_numbers:\n",
    "    print(key)"
   ]
  },
  {
   "cell_type": "markdown",
   "metadata": {},
   "source": [
    "Wie wir sehen, liefert `for ... in` einen Key nach dem anderen."
   ]
  },
  {
   "cell_type": "markdown",
   "metadata": {},
   "source": [
    "## Ein Dictionary als Zähler\n",
    "Wir können eine Dictionary verwenden, um unsere Namen zu zählen. Lesen wir die Namen zuerst wieder aus der Datei ein:\n"
   ]
  },
  {
   "cell_type": "code",
   "execution_count": null,
   "metadata": {},
   "outputs": [],
   "source": [
    "with open('data/vornamen/names_short.txt', encoding='utf-8') as fh:\n",
    "    clean_names = [line.rstrip() for line in fh.readlines()]"
   ]
  },
  {
   "cell_type": "markdown",
   "metadata": {},
   "source": [
    "Wir erzeugen dann ein leeres Dictionary und iterieren durch die Liste der Vornamen. Im Dictionary verwenden wir die Vornamen als Keys, um für jeden Namen zu zählen, wie oft er erscheint:"
   ]
  },
  {
   "cell_type": "code",
   "execution_count": null,
   "metadata": {},
   "outputs": [],
   "source": [
    "name_counter = {}\n",
    "for name in clean_names:\n",
    "    if name in name_counter:\n",
    "        name_counter[name] += 1\n",
    "    else:\n",
    "        name_counter[name] = 1\n",
    "print(name_counter)        "
   ]
  },
  {
   "cell_type": "markdown",
   "metadata": {},
   "source": [
    "Wenn wir nur an Namen interessiert sind, die mindestens zwei Mal erscheinen können wir das so lösen:"
   ]
  },
  {
   "cell_type": "code",
   "execution_count": null,
   "metadata": {},
   "outputs": [],
   "source": [
    "for key in name_counter:\n",
    "    if name_counter[key] > 1:\n",
    "        print('{} erschein {} Mal'.format(key, name_counter[key]))"
   ]
  },
  {
   "cell_type": "markdown",
   "metadata": {},
   "source": [
    "## Wichtige Methoden des dict-Objekts\n",
    "\n",
    "### get()\n",
    "\n",
    "Bisher haben wir auf den einem Schlüssel zugeordneten Wert so zugegriffen:\n",
    "\n",
    "~~~\n",
    "phone_numbers['Hans']\n",
    "~~~\n",
    "\n",
    "Alternativ können wir die `get()`-Methode verwenden:"
   ]
  },
  {
   "cell_type": "code",
   "execution_count": null,
   "metadata": {},
   "outputs": [],
   "source": [
    "phone_numbers.get('Hans')"
   ]
  },
  {
   "cell_type": "markdown",
   "metadata": {},
   "source": [
    "`get()` bietet den Vorteil, dass ein zweites Argument angegeben werden kann, dessen Wert zurückgeliefert wird, wenn der Schlüssel nicht existiert. Damit können wir den Zähler-Code von oben vereinfachen:"
   ]
  },
  {
   "cell_type": "code",
   "execution_count": null,
   "metadata": {},
   "outputs": [],
   "source": [
    "name_counter = {}\n",
    "for name in clean_names:\n",
    "    name_counter[name] = name_counter.get(name, 0) + 1\n",
    "print(name_counter)        "
   ]
  },
  {
   "cell_type": "markdown",
   "metadata": {},
   "source": [
    "### values()\n",
    "`values()` liefert ein Iterable auf die Werte eines Dictionaries:"
   ]
  },
  {
   "cell_type": "code",
   "execution_count": null,
   "metadata": {},
   "outputs": [],
   "source": [
    "for val in phone_numbers.values():\n",
    "    print(val)"
   ]
  },
  {
   "cell_type": "markdown",
   "metadata": {},
   "source": [
    "Das kann auch zusammen mit `in` verwendet werden:"
   ]
  },
  {
   "cell_type": "code",
   "execution_count": null,
   "metadata": {},
   "outputs": [],
   "source": [
    "if '0316 123456' in phone_numbers.values():\n",
    "    print('Nummer existiert')\n",
    "else:\n",
    "    print('Unbekannte Nummer')"
   ]
  },
  {
   "cell_type": "markdown",
   "metadata": {},
   "source": [
    "### items()\n",
    "`items()` liefert key und value als Tupel:"
   ]
  },
  {
   "cell_type": "code",
   "execution_count": null,
   "metadata": {},
   "outputs": [],
   "source": [
    "for key,  val in phone_numbers.items():\n",
    "    print('{} -> {}'.format(key, val))"
   ]
  },
  {
   "cell_type": "markdown",
   "metadata": {},
   "source": [
    "## Vertiefende Literatur\n",
    "Ich empfehle ausdrücklich, mindestens eine der folgenden Ressourcen zur Vertiefung zu lesen!\n",
    "\n",
    "  * Python Tutorial: Kapitel 5.5\n",
    "\t(http://docs.python.org/3/tutorial/datastructures.html#dictionaries)\n",
    "  * Klein, Kurs: \n",
    "\t* Dictionaries (http://python-kurs.eu/python3_dictionaries.php) \n",
    "  * Klein, Buch: Kapitel 6\n",
    "  * Weigend: Kapitel 4.12\n",
    "  * Briggs: Kapitel 4.4.\n",
    "  * Pilgrim: Kapitel 2.7 \n",
    "    (http://getpython3.com/diveintopython3/native-datatypes.html#dictionaries) \n",
    "  * Downey: Kapitel 11\n",
    "    (http://www.greenteapress.com/thinkpython/html/thinkpython012.html)"
   ]
  }
 ],
 "metadata": {
  "kernelspec": {
   "display_name": "Python 3",
   "language": "python",
   "name": "python3"
  },
  "language_info": {
   "codemirror_mode": {
    "name": "ipython",
    "version": 3
   },
   "file_extension": ".py",
   "mimetype": "text/x-python",
   "name": "python",
   "nbconvert_exporter": "python",
   "pygments_lexer": "ipython3",
   "version": "3.7.0"
  }
 },
 "nbformat": 4,
 "nbformat_minor": 2
}
