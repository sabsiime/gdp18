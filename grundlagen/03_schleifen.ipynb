{
 "cells": [
  {
   "cell_type": "markdown",
   "metadata": {},
   "source": [
    "# Schleifen\n",
    "Beim Programmieren müssen häufig eine Anweisung oder eine Reihe von Anweisungen wiederholt werden, beispielsweise für jedes Element einer Sequenz (z.B. für jedes Zeichen eines Strings). Für diesen Zweck ist die `for`-Schleife bestens geeignet:"
   ]
  },
  {
   "cell_type": "code",
   "execution_count": null,
   "metadata": {},
   "outputs": [],
   "source": [
    "sentence = \"Ich bin ein Satz.\"\n",
    "for char in sentence:\n",
    "    print(char)"
   ]
  },
  {
   "cell_type": "markdown",
   "metadata": {},
   "source": [
    "Dieses Konstrukt (`for Element in Sequenz`) funktioniert für alle Datentypen, die in der Lage sind, ein Element nach dem anderen zu liefern. Man spricht hier von einem **Iterable**. Solche Iterables sind in Python zahlreich, so dass auf diese Weise nicht nur durch die Zeichen eines Strings, sondern beispielsweise auch durch die Elemente einer Liste, die Zeilen einer Datei oder einfach nur durch eine Abfolge von Zahlen iteriert werden kann:"
   ]
  },
  {
   "cell_type": "code",
   "execution_count": null,
   "metadata": {},
   "outputs": [],
   "source": [
    "# die range-Funktion liefert ein Iterable \n",
    "for i in range(1, 11):\n",
    "    print(i)"
   ]
  },
  {
   "cell_type": "markdown",
   "metadata": {},
   "source": [
    "### Übung\n",
    "Ermitteln wir in einer Schleife die Summe aller Zahlen zwischen 1 und 50000"
   ]
  },
  {
   "cell_type": "code",
   "execution_count": null,
   "metadata": {},
   "outputs": [],
   "source": []
  },
  {
   "cell_type": "markdown",
   "metadata": {},
   "source": [
    "## Verschachtelte Schleifen\n",
    "Man kann zwei (oder mehr - dies ist jedoch meist nicht empfehlenswert) Schleifen ineinander verschachteln. Dadurch kann man beispielsweise alle Elemente aus 2 Sequenzen miteinander kombinieren:"
   ]
  },
  {
   "cell_type": "code",
   "execution_count": null,
   "metadata": {},
   "outputs": [],
   "source": [
    "for i in range(1, 11):\n",
    "    for j in range(1, 11):\n",
    "        print('{} x {} = {}'.format(j, i, i * j))"
   ]
  },
  {
   "cell_type": "markdown",
   "metadata": {},
   "source": [
    "## Die while Schleife\n",
    "Während die `for`-Schleife über alle Elemente einer Sequenz (oder allgemeiner gesprochen: eines Iterables) iteriert, prüft die `while`-Schleife bei jedem Schleifendurchlauf eine Bedingung und beendet sich, wenn diese Bedingung nicht mehr erfüllt ist."
   ]
  },
  {
   "cell_type": "code",
   "execution_count": null,
   "metadata": {},
   "outputs": [],
   "source": [
    "text = 'Franz jagt im komplett verwahrlosten Taxi quer durch Bayern.'\n",
    "i = 0\n",
    "while text[i] != 'x':\n",
    "    print(text[i], end='')\n",
    "    i += 1"
   ]
  },
  {
   "cell_type": "markdown",
   "metadata": {},
   "source": [
    "*Hinweis: Das `end=''` in der `print()`-Funktion verhindert, dass `print()` am Ende seiner Ausgabe ein Zeilenumbruchszeichen einfügt.*"
   ]
  },
  {
   "cell_type": "markdown",
   "metadata": {},
   "source": [
    "## Übung\n",
    "Schreiben wir eine while-Schleife, die alle Zahlen bis zur abgefragten Zahl ausgibt."
   ]
  },
  {
   "cell_type": "code",
   "execution_count": null,
   "metadata": {},
   "outputs": [],
   "source": []
  },
  {
   "cell_type": "markdown",
   "metadata": {},
   "source": [
    "## Vertiefende Literatur\n",
    "Ich empfehle ausdrücklich, mindestens eine der folgenden Ressourcen zur Vertiefung zu lesen!\n",
    "\n",
    "  * Python Tutorial: \n",
    "\t* `for`: Kapitel 4.2 \n",
    "\t\t* http://docs.python.org/3/tutorial/controlflow.html#for-statements\n",
    "\t* `while`: kommt im Tutorial nicht vor\n",
    "  * Klein, Kurs: \n",
    "\t* `for`: http://python-kurs.eu/python3\\_for-schleife.php\n",
    "\t* `while`: http://python-kurs.eu/python3\\_schleifen.php\n",
    "\n",
    "  * Klein, Buch: Kapitel 9 und 26.  \n",
    "  * Weigend: Kapitel Kapitel 5.4, 5.5 und 5.6.\n",
    "  * Briggs: Kapitel 7.\n"
   ]
  }
 ],
 "metadata": {
  "kernelspec": {
   "display_name": "Python 3",
   "language": "python",
   "name": "python3"
  },
  "language_info": {
   "codemirror_mode": {
    "name": "ipython",
    "version": 3
   },
   "file_extension": ".py",
   "mimetype": "text/x-python",
   "name": "python",
   "nbconvert_exporter": "python",
   "pygments_lexer": "ipython3",
   "version": "3.7.0"
  }
 },
 "nbformat": 4,
 "nbformat_minor": 2
}
