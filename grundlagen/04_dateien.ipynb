{
 "cells": [
  {
   "cell_type": "markdown",
   "metadata": {},
   "source": [
    "# Mit Dateien arbeiten\n",
    "\n",
    "Bevor aus einer Datei gelesen oder in eine Datei geschrieben werden kann, muss diese Datei mit der Funktion `open()` geöffnet werden. `open()` erwartet mindestens ein Argument: Den Namen (evtl. mit Pfad) der Datei:"
   ]
  },
  {
   "cell_type": "code",
   "execution_count": null,
   "metadata": {},
   "outputs": [],
   "source": [
    "fh = open('data/vornamen/names_short.txt')"
   ]
  },
  {
   "cell_type": "markdown",
   "metadata": {},
   "source": [
    "Falls nötig (und grundsätzlich empfehlenswert), kann noch das Encoding der Datei explizit angegeben werden:"
   ]
  },
  {
   "cell_type": "code",
   "execution_count": null,
   "metadata": {},
   "outputs": [],
   "source": [
    "fh = open('data/vornamen/names_short.txt', encoding='utf-8')"
   ]
  },
  {
   "cell_type": "markdown",
   "metadata": {},
   "source": [
    "Wenn wir die Datei nicht mehr brauchen, sollte sie wieder geschlossen werden, damit das Betriebssystem die Ressource wieder freigeben kann."
   ]
  },
  {
   "cell_type": "code",
   "execution_count": null,
   "metadata": {},
   "outputs": [],
   "source": [
    "fh.close()"
   ]
  },
  {
   "cell_type": "markdown",
   "metadata": {},
   "source": [
    "Das Objekt, das die geöffnete Datei repräsentiert, bietet mehrere Möglichkeiten, auf den Inhalt \n",
    "der Datei zuzugreifen, darunter auch einen Iterator, den wir in einer `for`-Schleife nutzen können."
   ]
  },
  {
   "cell_type": "code",
   "execution_count": null,
   "metadata": {},
   "outputs": [],
   "source": [
    "fh = open('data/vornamen/names_short.txt', encoding='utf-8')\n",
    "for line in fh:\n",
    "    print(line)\n",
    "fh.close()"
   ]
  },
  {
   "cell_type": "markdown",
   "metadata": {},
   "source": [
    "## Eine Datei in einem Context-Manager öffnen\n",
    "Es ist guter Stil, eine geöffnete Datei auch wieder zu schließen. Wenn aber z.B. das Programm abstürzt, während die Datei geöffnet ist, kann die `close()`-Methode nicht mehr ausgeführt werden. Um solche Probleme zu vermeiden, empfiehlt sich die Verwendung eines Context-Managers:"
   ]
  },
  {
   "cell_type": "code",
   "execution_count": null,
   "metadata": {},
   "outputs": [],
   "source": [
    "with open('data/vornamen/names_short.txt', encoding='utf-8') as fh:\n",
    "    for line in fh:\n",
    "        print(line)"
   ]
  },
  {
   "cell_type": "markdown",
   "metadata": {},
   "source": [
    "## Weitere Methoden um aus einer Datei zu lesen\n",
    "\n",
    "### read()\n",
    "Die `read()`-Methode liest den gesamten Dateiinhalt als String ein:"
   ]
  },
  {
   "cell_type": "code",
   "execution_count": null,
   "metadata": {},
   "outputs": [],
   "source": [
    "with open('data/vornamen/names_short.txt', encoding='utf-8') as fh:\n",
    "    data = fh.read()\n",
    "print(data)    "
   ]
  },
  {
   "cell_type": "markdown",
   "metadata": {},
   "source": [
    "### readlines()\n",
    "Diese Methode liest jede Zeile der Datei als Element in eine Liste ein:"
   ]
  },
  {
   "cell_type": "code",
   "execution_count": null,
   "metadata": {},
   "outputs": [],
   "source": [
    "with open('data/vornamen/names_short.txt', encoding='utf-8') as fh:\n",
    "    lines = fh.readlines()\n",
    "print(lines)    "
   ]
  },
  {
   "cell_type": "markdown",
   "metadata": {},
   "source": [
    "### Übung: wie viele Zeilen hat die Datei names_short.txt?"
   ]
  },
  {
   "cell_type": "code",
   "execution_count": null,
   "metadata": {},
   "outputs": [],
   "source": []
  },
  {
   "cell_type": "markdown",
   "metadata": {},
   "source": [
    "## In eine Datei schreiben\n",
    "Bisher haben wir nur aus Dateien gelesen. Um in eine Datei schreiben zu können, müssen wir sie in einer besonderen Weise öffnen:"
   ]
  },
  {
   "cell_type": "code",
   "execution_count": null,
   "metadata": {},
   "outputs": [],
   "source": [
    "with open('distinct_names.txt', 'w', encoding='utf-8') as fh:\n",
    "    fh.write('Ich bin ein Text.')"
   ]
  },
  {
   "cell_type": "markdown",
   "metadata": {},
   "source": [
    "Man beachte hier den zusätzlichen Parameter `w`, der die Datei im Schreib-Modus öffnet. Fehlt dieser Parameter, nimmt Python den Defaultwert `r` für `read` an."
   ]
  },
  {
   "cell_type": "markdown",
   "metadata": {},
   "source": [
    "## Vertiefende Literatur\n",
    "Ich empfehle ausdrücklich, mindestens eine der folgenden Ressourcen zur Vertiefung zu lesen!\n",
    "\n",
    "  * Python Tutorial: Kapitel 7.2\n",
    "\t(http://docs.python.org/3/tutorial/inputoutput.html\\#reading-and-writing-files)\n",
    "  * Klein, Kurs: Dateien lesen und schreiben (http://python-kurs.eu/python3_dateien.php)\n",
    "  * Klein, Buch: Kapitel 10\n",
    "  * Weigend: Kapitel 9.1 und 9.2\n",
    "  * Briggs: Kapitel 10.2\n",
    "  * Sweigart: Kapitel 8.\n",
    "  * Pilgrim: Kapitel 11.1 bis 11.4\n",
    "\t(http://getpython3.com/diveintopython3/files.html)\n",
    "  * Downey: Kapitel 14.1 bis 14.5\n",
    "    (http://www.greenteapress.com/thinkpython/html/thinkpython015.html)"
   ]
  }
 ],
 "metadata": {
  "kernelspec": {
   "display_name": "Python 3",
   "language": "python",
   "name": "python3"
  },
  "language_info": {
   "codemirror_mode": {
    "name": "ipython",
    "version": 3
   },
   "file_extension": ".py",
   "mimetype": "text/x-python",
   "name": "python",
   "nbconvert_exporter": "python",
   "pygments_lexer": "ipython3",
   "version": "3.7.0"
  }
 },
 "nbformat": 4,
 "nbformat_minor": 2
}
