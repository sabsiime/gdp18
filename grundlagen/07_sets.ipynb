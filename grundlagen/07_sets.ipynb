{
 "cells": [
  {
   "cell_type": "markdown",
   "metadata": {},
   "source": [
    "# Sets\n",
    "Im letzten Notebook haben wir eine distinkte Liste von Vornamen erzeugt.\n",
    "Wir können uns das Leben noch einfacher machen, wenn wir unsere Liste in einen neuen Datentyp umwandeln: `set`. Ein Set ist eine Menge im Sinne der Mengenlehre. In einer Menge darf jeder Wert nur einmal erscheinen."
   ]
  },
  {
   "cell_type": "markdown",
   "metadata": {},
   "source": [
    "Lesen wir zunächst noch einmal alle Name in die Liste `clean_names` ein:"
   ]
  },
  {
   "cell_type": "code",
   "execution_count": null,
   "metadata": {},
   "outputs": [],
   "source": [
    "with open('data/vornamen/names_short.txt', encoding='utf-8') as fh:\n",
    "    clean_names = [line.rstrip() for line in fh.readlines()]"
   ]
  },
  {
   "cell_type": "code",
   "execution_count": null,
   "metadata": {},
   "outputs": [],
   "source": [
    "distinct_names = set(clean_names)\n",
    "print('clean_names: {} Einträgen, distinct_names: {} Einträge'. format(len(clean_names), len(distinct_names)))   "
   ]
  },
  {
   "cell_type": "markdown",
   "metadata": {},
   "source": [
    "`distinct_names` ist jetzt aber keine Liste mehr, sondern vom Typ `set`:"
   ]
  },
  {
   "cell_type": "code",
   "execution_count": null,
   "metadata": {},
   "outputs": [],
   "source": [
    "type(distinct_names)"
   ]
  },
  {
   "cell_type": "markdown",
   "metadata": {},
   "source": [
    "Wir können ein Set einfach wieder in eine Liste zurückverwandeln: `distinct_names = list(set(clean_names))`, das ist aber vielfach nicht nötig, weil auch ein Set, obwohl es keine Sequenz ist, ähnliche Interaktionsmöglichkeiten bietet wie eine Sequenz, z.B. kann auch über ein Set mit `for ... in` iteriert werden: "
   ]
  },
  {
   "cell_type": "code",
   "execution_count": null,
   "metadata": {},
   "outputs": [],
   "source": [
    "short_length_names = 0\n",
    "medium_length_names = 0\n",
    "long_length_names = 0\n",
    "\n",
    "for name in distinct_names:\n",
    "    if len(name) > 8:\n",
    "        long_length_names += 1\n",
    "    elif len(name) < 5:\n",
    "        short_length_names += 1\n",
    "    else:\n",
    "        medium_length_names += 1\n",
    "        \n",
    "print('{} kurze Namen, {} mittellange und {} lange Namen'.format(\n",
    "    short_length_names, medium_length_names, long_length_names))"
   ]
  },
  {
   "cell_type": "markdown",
   "metadata": {},
   "source": [
    "## Mengenoperatoren\n",
    "Auch wenn Sets praktisch sind, um mehrfach vorkommende Werte auf einen Wert zu reduzieren, liegt ihr eigentlicher Daseinszweck in den Mengenoperatoren. Ich verweise dazu auf das Skriptum bzw. die Folien im Kurs und zeige hier nur, wie einfach z.B. die Schnittmenge zweier Mengen ermittelt werden kann:"
   ]
  },
  {
   "cell_type": "code",
   "execution_count": null,
   "metadata": {},
   "outputs": [],
   "source": [
    "s1 = {'Anna', 'Otto', 'Franz', 'Willi'}\n",
    "s2 = {'Hans', 'Franz', 'Anna'}\n",
    "s1 & s2"
   ]
  },
  {
   "cell_type": "markdown",
   "metadata": {},
   "source": [
    "Ebenso einfach kann die Vereinigungsmenge erzeugt werden:"
   ]
  },
  {
   "cell_type": "code",
   "execution_count": null,
   "metadata": {},
   "outputs": [],
   "source": [
    "s1 | s2"
   ]
  },
  {
   "cell_type": "markdown",
   "metadata": {},
   "source": [
    "## Ein leeres Set anlegen und später befüllen"
   ]
  },
  {
   "cell_type": "code",
   "execution_count": null,
   "metadata": {},
   "outputs": [],
   "source": [
    "student_set = set()\n",
    "print(len(student_set))\n",
    "student_set.add('Anna')\n",
    "student_set.add('Berta')\n",
    "student_set.add('Anna')\n",
    "print(len(student_set))"
   ]
  },
  {
   "cell_type": "markdown",
   "metadata": {},
   "source": [
    "## Werte aus einem Set entfernen\n",
    "Mit `remove()` lässt sich ein Wert wieder aus einem Set entfernen."
   ]
  },
  {
   "cell_type": "code",
   "execution_count": null,
   "metadata": {},
   "outputs": [],
   "source": [
    "my_set = {5, 2, 4, 3}\n",
    "print(my_set)\n",
    "my_set.remove(3)\n",
    "print(my_set)"
   ]
  },
  {
   "cell_type": "markdown",
   "metadata": {},
   "source": [
    "## Vertiefende Literatur\n",
    "Ich empfehle ausdrücklich, mindestens eine der folgenden Ressourcen zur Vertiefung zu lesen!\n",
    "\n",
    "  * Python Tutorial: Kapitel 5.4\n",
    "    (http://docs.python.org/3/tutorial/datastructures.html#sets).\n",
    "  * Klein, Kurs: Mengen (http://python-kurs.eu/python3_sets_mengen.php).\n",
    "  * Klein, Buch: Kapitel 7.\n",
    "  * Weigend: Kapitel 7.6.\n",
    "  * Pilgrim: Kapitel 2.5\n",
    "    (http://getpython3.com/diveintopython3/native-datatypes.html#sets)\n",
    "\n"
   ]
  }
 ],
 "metadata": {
  "kernelspec": {
   "display_name": "Python 3",
   "language": "python",
   "name": "python3"
  },
  "language_info": {
   "codemirror_mode": {
    "name": "ipython",
    "version": 3
   },
   "file_extension": ".py",
   "mimetype": "text/x-python",
   "name": "python",
   "nbconvert_exporter": "python",
   "pygments_lexer": "ipython3",
   "version": "3.7.0"
  }
 },
 "nbformat": 4,
 "nbformat_minor": 2
}
